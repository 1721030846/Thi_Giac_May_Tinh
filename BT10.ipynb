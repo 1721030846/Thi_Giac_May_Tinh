{
 "cells": [
  {
   "cell_type": "code",
   "execution_count": 1,
   "id": "217a01c9-5ce6-4491-bad4-44817092e4a8",
   "metadata": {},
   "outputs": [],
   "source": [
    "# Import thu vien\n",
    "from PIL import Image\n",
    "import matplotlib.pyplot as plt"
   ]
  },
  {
   "cell_type": "code",
   "execution_count": 2,
   "id": "7e3ec898-6c32-4591-a097-de036caa93f5",
   "metadata": {},
   "outputs": [],
   "source": [
    "# duong dan anh\n",
    "my_path ='C:/Users/Admin/Desktop/Thi Giac May Tinh/img/acheron.png'\n",
    "# doc anh va hien thi\n",
    "im = Image.open(my_path)"
   ]
  },
  {
   "cell_type": "code",
   "execution_count": 3,
   "id": "78094ba9-1a83-451a-979e-f23e16a47756",
   "metadata": {},
   "outputs": [],
   "source": [
    "# Chuyen doi backend\n",
    "plt.switch_backend('tkagg')"
   ]
  },
  {
   "cell_type": "code",
   "execution_count": 4,
   "id": "d0ba24b1-5743-45b2-b2fa-a01af90e592b",
   "metadata": {},
   "outputs": [
    {
     "data": {
      "text/plain": [
       "Text(0.5, 1.0, 'Click on the image to select points')"
      ]
     },
     "execution_count": 4,
     "metadata": {},
     "output_type": "execute_result"
    }
   ],
   "source": [
    "# hien thi anh\n",
    "plt.imshow(im)\n",
    "plt.title('Click on the image to select points')"
   ]
  },
  {
   "cell_type": "code",
   "execution_count": 5,
   "id": "1641afa1-4300-418a-8571-d6ae499ac6fd",
   "metadata": {},
   "outputs": [
    {
     "name": "stdout",
     "output_type": "stream",
     "text": [
      "[(705.9516129032259, 620.9032258064517), (822.0806451612902, 591.8709677419356), (847.8870967741937, 633.8064516129033), (1005.9516129032259, 520.9032258064517), (954.3387096774193, 653.1612903225807), (1244.6612903225805, 614.4516129032259), (1299.5, 649.9354838709678), (1447.8870967741934, 585.4193548387098), (1544.6612903225805, 643.4838709677421), (1189.8225806451612, 659.6129032258066), (1047.8870967741934, 669.2903225806452), (1428.532258064516, 627.3548387096776)]\n"
     ]
    }
   ],
   "source": [
    "# Su dung ham ginput de chon diem tren anh\n",
    "points = plt.ginput(12)\n",
    "print(points)\n",
    "\n",
    "# hien thi\n",
    "plt.show()"
   ]
  },
  {
   "cell_type": "code",
   "execution_count": null,
   "id": "261ff170-4c97-4b1a-b886-f4ebf113c2c2",
   "metadata": {},
   "outputs": [],
   "source": [
    "# Ve lai cac diem anh bang dau * mau do\n",
    "plt.close()\n",
    "\n",
    "# Ve lai\n",
    "plt.imshow(im)\n",
    "for point in points:\n",
    "    x, y = point\n",
    "    plt.plot(x,y, 'r*')\n",
    "\n",
    "plt.show()"
   ]
  },
  {
   "cell_type": "code",
   "execution_count": null,
   "id": "4f16ffd8-ec05-44ce-b566-3ed8587fad57",
   "metadata": {},
   "outputs": [],
   "source": []
  }
 ],
 "metadata": {
  "kernelspec": {
   "display_name": "Python 3 (ipykernel)",
   "language": "python",
   "name": "python3"
  },
  "language_info": {
   "codemirror_mode": {
    "name": "ipython",
    "version": 3
   },
   "file_extension": ".py",
   "mimetype": "text/x-python",
   "name": "python",
   "nbconvert_exporter": "python",
   "pygments_lexer": "ipython3",
   "version": "3.12.4"
  }
 },
 "nbformat": 4,
 "nbformat_minor": 5
}
