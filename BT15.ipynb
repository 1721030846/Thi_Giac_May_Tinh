{
 "cells": [
  {
   "cell_type": "code",
   "execution_count": 12,
   "id": "befbb009-3015-4b95-b4d0-b4ba5a89eb5d",
   "metadata": {},
   "outputs": [
    {
     "name": "stdout",
     "output_type": "stream",
     "text": [
      "Kết quả:  [1. 2.]\n"
     ]
    }
   ],
   "source": [
    "# Giai he thu vien tuyen tinh\n",
    "#!pip install scipy\n",
    "from scipy import linalg\n",
    "import numpy as np\n",
    "\n",
    "# Dinh nghia he phuong trinh tuyen tinh\n",
    "A = np.array([[2, 1],[3, 2]])\n",
    "b = np.array([4,7])\n",
    "\n",
    "# Giai he phuong trinh tuyen tinh\n",
    "x = linalg.solve(A, b)\n",
    "print(\"Kết quả: \", x)"
   ]
  },
  {
   "cell_type": "code",
   "execution_count": 8,
   "id": "4993772b-5792-40d8-9b79-5cb2a2a0e787",
   "metadata": {},
   "outputs": [
    {
     "name": "stdout",
     "output_type": "stream",
     "text": [
      "Tích phân f(x) từ 0 đến 3:  (9.000000000000002, 9.992007221626411e-14)\n"
     ]
    }
   ],
   "source": [
    "# Tinh tich phan cua 1 ham so\n",
    "from scipy import integrate\n",
    "\n",
    "# Định nghĩa hàm f(x) = x^2 + 2x  + 1\n",
    "def my_function(x):\n",
    "    return x**2\n",
    "\n",
    "# Tinh tich phan cua f(x) tu 0 den 3\n",
    "integral = integrate.quad(my_function, 0, 3);\n",
    "print(\"Tích phân f(x) từ 0 đến 3: \", integral)"
   ]
  },
  {
   "cell_type": "code",
   "execution_count": 17,
   "id": "1b9ab67c-5d10-46da-9ed6-ddc02d3e6b1b",
   "metadata": {},
   "outputs": [
    {
     "name": "stdout",
     "output_type": "stream",
     "text": [
      "Giá trị riêng:  [0.+0.j 8.+0.j]\n",
      "Vector riêng:  [[-0.89442719 -0.5547002 ]\n",
      " [ 0.4472136  -0.83205029]]\n"
     ]
    }
   ],
   "source": [
    "# !pip install scipy\n",
    "from scipy import linalg\n",
    "import numpy as np\n",
    "\n",
    "# Tinh gia tri rieng va vector rieng cua mot ma tran\n",
    "A = np.array([[2,4], [3,6]])\n",
    "\n",
    "# Tinh gia tri rieng va vector rieng cua ma tran\n",
    "evals, evecs = linalg.eig(A)\n",
    "\n",
    "print(\"Giá trị riêng: \", evals)\n",
    "print(\"Vector riêng: \", evecs)"
   ]
  },
  {
   "cell_type": "code",
   "execution_count": null,
   "id": "0cb1db2e-6c50-4020-83ca-082476b9e66a",
   "metadata": {},
   "outputs": [],
   "source": []
  }
 ],
 "metadata": {
  "kernelspec": {
   "display_name": "Python 3 (ipykernel)",
   "language": "python",
   "name": "python3"
  },
  "language_info": {
   "codemirror_mode": {
    "name": "ipython",
    "version": 3
   },
   "file_extension": ".py",
   "mimetype": "text/x-python",
   "name": "python",
   "nbconvert_exporter": "python",
   "pygments_lexer": "ipython3",
   "version": "3.12.4"
  }
 },
 "nbformat": 4,
 "nbformat_minor": 5
}
