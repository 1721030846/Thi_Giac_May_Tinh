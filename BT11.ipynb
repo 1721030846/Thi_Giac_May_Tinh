{
 "cells": [
  {
   "cell_type": "code",
   "execution_count": 1,
   "id": "0f797ad2-2cf6-4d94-a67c-753d3f59f9d8",
   "metadata": {},
   "outputs": [],
   "source": [
    "import numpy as np"
   ]
  },
  {
   "cell_type": "code",
   "execution_count": 6,
   "id": "26afacc1-3ca4-4606-bf1d-da745c3cc15e",
   "metadata": {},
   "outputs": [
    {
     "name": "stdout",
     "output_type": "stream",
     "text": [
      "[ 5 10 15]\n",
      "10\n"
     ]
    }
   ],
   "source": [
    "# Tao mang\n",
    "a = np.array([5,10,15])\n",
    "\n",
    "# In mang\n",
    "print(a)\n",
    "\n",
    "# In ra 1 phan tu\n",
    "element = a[1]\n",
    "print(element)"
   ]
  },
  {
   "cell_type": "code",
   "execution_count": 7,
   "id": "41ab6993-c19d-41f9-934e-8b1cdd991bb1",
   "metadata": {},
   "outputs": [
    {
     "name": "stdout",
     "output_type": "stream",
     "text": [
      "Matrix:\n",
      "[[1 2 3]\n",
      " [4 5 6]\n",
      " [7 8 9]]\n",
      "9\n"
     ]
    }
   ],
   "source": [
    "# Tao mang 2 chieu\n",
    "matrix = np.array([[1, 2, 3], [4, 5, 6], [7, 8, 9]])\n",
    "print(\"Matrix:\")\n",
    "print(matrix)\n",
    "\n",
    "# In 1 phan tu\n",
    "element = matrix[2, 2]\n",
    "print(element)"
   ]
  },
  {
   "cell_type": "code",
   "execution_count": 13,
   "id": "b00f618c-4679-424a-89b0-6ca824ed95c8",
   "metadata": {},
   "outputs": [
    {
     "name": "stdout",
     "output_type": "stream",
     "text": [
      "[0. 0. 0. 0. 0. 0.]\n",
      "[1. 1. 1. 1. 1.]\n",
      "[ 2.5  5.   7.5 10. ]\n",
      "[ 0  1  2  3  4  5  6  7  8  9 10 11 12 13 14 15 16 17 18 19 20 21 22 23\n",
      " 24 25 26 27 28 29 30 31 32 33 34 35 36 37 38 39 40 41 42 43 44 45 46 47\n",
      " 48 49 50 51 52 53 54 55 56 57 58 59 60 61 62 63 64 65 66 67 68 69 70 71\n",
      " 72 73 74 75 76 77 78 79 80 81 82 83 84 85 86 87 88 89 90 91 92 93 94 95\n",
      " 96 97 98 99]\n",
      "[ 0.   2.5  5.   7.5 10. ]\n"
     ]
    },
    {
     "data": {
      "text/plain": [
       "array([1, 1, 1, 1, 1], dtype=int64)"
      ]
     },
     "execution_count": 13,
     "metadata": {},
     "output_type": "execute_result"
    }
   ],
   "source": [
    "# Cach tao mang\n",
    "# Tao mang toan la so 0\n",
    "a = np.zeros(6)\n",
    "print(a)\n",
    "\n",
    "# Tao mang toan la so 1\n",
    "a = np.ones(5)\n",
    "print(a)\n",
    "\n",
    "# Tao mang\n",
    "a = np.empty(4)\n",
    "print(a)\n",
    "\n",
    "# Tao mang tu 0 den 100\n",
    "a = np.arange(100)\n",
    "print(a)\n",
    "\n",
    "# Tao mang gom cac phan tu voi khoang cach deu nhau\n",
    "a = np.linspace(0, 10, num = 5)\n",
    "print(a)\n",
    "\n",
    "\n",
    "# Xac dinh kieu du lieu\n",
    "a = np.ones(5, dtype = np.int64)\n",
    "a"
   ]
  },
  {
   "cell_type": "code",
   "execution_count": 8,
   "id": "45a8898d-9c8b-48a9-8726-3dcd020f734d",
   "metadata": {},
   "outputs": [
    {
     "name": "stdout",
     "output_type": "stream",
     "text": [
      "[6 2 3 5 8]\n",
      "[2 3 5 6 8]\n",
      "[8 6 5 3 2]\n",
      "[  8   6   5   3   2 100]\n",
      "[  8   6   5   2 100]\n"
     ]
    }
   ],
   "source": [
    "# Them, xoa, sap xep mang\n",
    "# Tao mang ban dau\n",
    "arr = np.array([6, 2, 3, 5, 8])\n",
    "print(arr)\n",
    "\n",
    "# Sap xep\n",
    "arr = np.sort(arr)\n",
    "print(arr)\n",
    "\n",
    "# Sap xep nguoc\n",
    "arr = np.sort(arr)[::-1]\n",
    "print(arr)\n",
    "\n",
    "# them phan tu vao mang\n",
    "arr = np.append(arr, 100)\n",
    "print(arr)\n",
    "\n",
    "# Xoa di mot vi tri nao do trong mang\n",
    "arr = np.delete(arr, 3)\n",
    "print(arr)"
   ]
  },
  {
   "cell_type": "code",
   "execution_count": 10,
   "id": "79ecabaf-d330-434f-a974-9b8757db316b",
   "metadata": {},
   "outputs": [
    {
     "name": "stdout",
     "output_type": "stream",
     "text": [
      "[[ 1  2 15]\n",
      " [ 4  8 22]\n",
      " [ 5  9 10]]\n",
      "[[ 4  1  2]\n",
      " [ 9 10  5]\n",
      " [15 22  8]]\n"
     ]
    }
   ],
   "source": [
    "# Tao mang 2 chieu\n",
    "arr = np.array([[15, 1, 2],\n",
    "                [4, 22, 8],\n",
    "                [9, 10, 5]])\n",
    "\n",
    "sap_xep_theo_hang = np.sort(arr, axis=1) # tang dan\n",
    "print(sap_xep_theo_hang)\n",
    "\n",
    "sap_xep_theo_cot = np.sort(arr, axis=0) # tang dan\n",
    "print(sap_xep_theo_cot)"
   ]
  },
  {
   "cell_type": "code",
   "execution_count": 12,
   "id": "5c12b22b-0719-45f7-8041-502c9132ed17",
   "metadata": {},
   "outputs": [
    {
     "name": "stdout",
     "output_type": "stream",
     "text": [
      "[[15  3  1]\n",
      " [11  8  6]\n",
      " [10  7  5]]\n",
      "[[11  7 15]\n",
      " [10  6  8]\n",
      " [ 3  1  5]]\n"
     ]
    }
   ],
   "source": [
    "# tao mang 2 chieu\n",
    "arr = np.array([[3, 1, 15],\n",
    "                [11, 6, 8],\n",
    "                [10, 7, 5]])\n",
    "\n",
    "sap_xep_theo_hang = -np.sort(-arr, axis=1) # giam dan\n",
    "print(sap_xep_theo_hang)\n",
    "\n",
    "sap_xep_theo_cot = -np.sort(-arr, axis=0) # giam dan\n",
    "print(sap_xep_theo_cot)"
   ]
  },
  {
   "cell_type": "code",
   "execution_count": 13,
   "id": "0dbb925d-2d03-42fd-86f7-95a75c441f66",
   "metadata": {},
   "outputs": [
    {
     "name": "stdout",
     "output_type": "stream",
     "text": [
      "Số chiều: 2\n",
      "Kích thước: 6\n",
      "Hình dạng: (2, 3)\n"
     ]
    }
   ],
   "source": [
    "# Tao mang 2D\n",
    "arr = np.array([[1, 2, 3], [4, 5, 6]])\n",
    "\n",
    "# Su dung thuoc tinh de lay thong tin cua mang\n",
    "so_chieu = arr.ndim  # so chieu (2 chieu)\n",
    "kich_thuoc = arr.size  # kich thuoc (tong so phan tu, 6)\n",
    "hinh_dang = arr.shape  # hinh dang (so hang x so cot, (2, 3))\n",
    "\n",
    "print(\"Số chiều:\", so_chieu)\n",
    "print(\"Kích thước:\", kich_thuoc)\n",
    "print(\"Hình dạng:\", hinh_dang)"
   ]
  },
  {
   "cell_type": "code",
   "execution_count": 14,
   "id": "6bb2326d-60b5-416d-b890-389a647fdaae",
   "metadata": {},
   "outputs": [
    {
     "name": "stdout",
     "output_type": "stream",
     "text": [
      "[1. 2. 3. 4. 5.]\n"
     ]
    }
   ],
   "source": [
    "# Chuyen doi kieu du lieu\n",
    "arr = np.array([1, 2, 3, 4, 5])\n",
    "arr_float = arr.astype(float)\n",
    "print(arr_float)"
   ]
  },
  {
   "cell_type": "code",
   "execution_count": 21,
   "id": "3202ed1b-b082-41b4-a59f-d959ed29b696",
   "metadata": {},
   "outputs": [
    {
     "name": "stdout",
     "output_type": "stream",
     "text": [
      "[[1 2 3]\n",
      " [4 5 6]]\n",
      "[[1 2]\n",
      " [3 4]\n",
      " [5 6]]\n"
     ]
    }
   ],
   "source": [
    "# Thay doi hinh dang cua mang\n",
    "arr = np.array([1, 2, 3, 4, 5, 6])\n",
    "reshaped_arr = arr.reshape(2,3)\n",
    "print(reshaped_arr)\n",
    "reshaped_arr = arr.reshape(3,2)\n",
    "print(reshaped_arr)"
   ]
  },
  {
   "cell_type": "code",
   "execution_count": 22,
   "id": "08e4a622-e2a4-418b-b912-e4db8dfea20f",
   "metadata": {},
   "outputs": [
    {
     "name": "stdout",
     "output_type": "stream",
     "text": [
      "[1 2 3 4 5 6]\n"
     ]
    }
   ],
   "source": [
    "reshaped_arr = reshaped_arr.flatten() # Chuyen thanh mang 1 chieu\n",
    "print(reshaped_arr)"
   ]
  },
  {
   "cell_type": "code",
   "execution_count": 23,
   "id": "0aa1b9e8-b524-4938-ae18-29dca7167b78",
   "metadata": {},
   "outputs": [
    {
     "name": "stdout",
     "output_type": "stream",
     "text": [
      "[2 3 4]\n",
      "[1 2 3 4]\n",
      "[4 5]\n"
     ]
    }
   ],
   "source": [
    "# Cat lat mang\n",
    "arr = np.array([1, 2, 3, 4, 5])\n",
    "\n",
    "sub_arr = arr[1:4]  # Cat ohan tu tu thu nhat den thu tu\n",
    "print(sub_arr) # 2 3 4 5\n",
    "\n",
    "sub_arr = arr[:-1]  # 1 2 3 4\n",
    "print(sub_arr)\n",
    "\n",
    "sub_arr = arr[-2:]  # 4 5 \n",
    "print(sub_arr)"
   ]
  },
  {
   "cell_type": "code",
   "execution_count": 24,
   "id": "fae7942d-5de1-4147-93cf-7a02f1420ffc",
   "metadata": {},
   "outputs": [
    {
     "name": "stdout",
     "output_type": "stream",
     "text": [
      "[[1 2 3]\n",
      " [4 5 6]]\n",
      "[[1 4]\n",
      " [2 5]\n",
      " [3 6]]\n"
     ]
    }
   ],
   "source": [
    "# Chuyen vi mang\n",
    "arr = np.array([[1, 2, 3], [4, 5, 6]])\n",
    "print(arr)\n",
    "# De chuyen vi mangm, chung ta co the su dung .T hoac ham numpy.transpose().\n",
    "transposed_arr = arr.T\n",
    "print(transposed_arr)"
   ]
  },
  {
   "cell_type": "code",
   "execution_count": 25,
   "id": "c5bea539-29b7-45f4-97db-c7fff95a936e",
   "metadata": {},
   "outputs": [
    {
     "name": "stdout",
     "output_type": "stream",
     "text": [
      "[1 2 3 4 5 6]\n"
     ]
    }
   ],
   "source": [
    "# Noi mang\n",
    "arr1 = np.array([1, 2, 3])\n",
    "arr2 = np.array([4, 5, 6])\n",
    "arr = np.concatenate((arr1, arr2))\n",
    "print(arr)"
   ]
  },
  {
   "cell_type": "code",
   "execution_count": 26,
   "id": "bf01a106-ae58-4b91-957c-61feb08be9e1",
   "metadata": {},
   "outputs": [
    {
     "name": "stdout",
     "output_type": "stream",
     "text": [
      "Tổng của mảng arr: 15\n",
      "Giá trị trung bình của mảng arr: 3.0\n",
      "Giá trị lớn nhất trong mảng arr: 5\n",
      "Giá trị nhỏ nhất trong mảng arr: 1\n",
      "Độ lệch chuẩn của mảng arr: 1.4142135623730951\n",
      "Phương sai của mảng arr: 2.0\n",
      "Tổng tích chập của arr1 và arr2: 32\n"
     ]
    }
   ],
   "source": [
    "# Ham tinh tong (Sum)\n",
    "# Ham numpy.sum() cho phep tinh tong cac phan tu trong mang\n",
    "arr = np.array([1, 2, 3, 4, 5])\n",
    "total = np.sum(arr)\n",
    "print(\"Tổng của mảng arr:\", total)\n",
    "\n",
    "# Ham tinh trung binh (Mean)\n",
    "# Ham numpy.mean() tinh gia tri trung binh cua cac phan tu trong mang\n",
    "average = np.mean(arr)\n",
    "print(\"Giá trị trung bình của mảng arr:\", average)\n",
    "\n",
    "# Ham tim gia tri nho nhat va lon nhat (Max và Min)\n",
    "# Ham numpy.max() va numpy.min() tim gia tri nho nhat va lon nhat trong mang\n",
    "max_value = np.max(arr)\n",
    "min_value = np.min(arr)\n",
    "print(\"Giá trị lớn nhất trong mảng arr:\", max_value)\n",
    "print(\"Giá trị nhỏ nhất trong mảng arr:\", min_value)\n",
    "\n",
    "# Ham tinh do lech chuan (Standard Deviation)\n",
    "# Ham numpy.std() tinh do lech chuan cua mang, do luong muc do phan tan du lieu\n",
    "std_deviation = np.std(arr)\n",
    "print(\"Độ lệch chuẩn của mảng arr:\", std_deviation)\n",
    "\n",
    "# Ham tinh phuong sai (Variance)\n",
    "# Ham numpy.var() tinh phuong sai cua mang, do luong muc do bien thien cua du lieu\n",
    "variance = np.var(arr)\n",
    "print(\"Phương sai của mảng arr:\", variance)\n",
    "\n",
    "# Ham tinh tong tich chap (Dot Product)\n",
    "# Ham numpy.dot() tinh tong tich chap cua 2 mang (vector).\n",
    "arr1 = np.array([1, 2, 3])\n",
    "arr2 = np.array([4, 5, 6])\n",
    "dot_product = np.dot(arr1, arr2)\n",
    "print(\"Tổng tích chập của arr1 và arr2:\", dot_product)"
   ]
  },
  {
   "cell_type": "code",
   "execution_count": null,
   "id": "9a04cc2a-8042-4e91-afc0-164678f7829a",
   "metadata": {},
   "outputs": [],
   "source": []
  }
 ],
 "metadata": {
  "kernelspec": {
   "display_name": "Python 3 (ipykernel)",
   "language": "python",
   "name": "python3"
  },
  "language_info": {
   "codemirror_mode": {
    "name": "ipython",
    "version": 3
   },
   "file_extension": ".py",
   "mimetype": "text/x-python",
   "name": "python",
   "nbconvert_exporter": "python",
   "pygments_lexer": "ipython3",
   "version": "3.12.4"
  }
 },
 "nbformat": 4,
 "nbformat_minor": 5
}
